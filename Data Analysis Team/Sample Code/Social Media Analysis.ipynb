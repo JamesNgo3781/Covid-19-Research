{
 "cells": [
  {
   "cell_type": "markdown",
   "metadata": {},
   "source": [
    "# Coronavirus Workbook"
   ]
  },
  {
   "cell_type": "markdown",
   "metadata": {},
   "source": [
    "## Setup "
   ]
  },
  {
   "cell_type": "code",
   "execution_count": 1,
   "metadata": {},
   "outputs": [],
   "source": [
    "import pandas as pd\n",
    "import numpy as np\n",
    "import matplotlib.pyplot as plt\n",
    "from langdetect import detect\n",
    "import datetime\n",
    "import unicodedata\n",
    "import re\n",
    "from IPython.display import display, HTML\n",
    "pd.set_option('display.notebook_repr_html', True)"
   ]
  },
  {
   "cell_type": "markdown",
   "metadata": {},
   "source": [
    "This CSV comes from the data provider. We just want timestamp, data, location, and unique user ID."
   ]
  },
  {
   "cell_type": "code",
   "execution_count": 2,
   "metadata": {},
   "outputs": [
    {
     "name": "stdout",
     "output_type": "stream",
     "text": [
      "(4258, 4)\n"
     ]
    },
    {
     "data": {
      "text/html": [
       "<div>\n",
       "<style scoped>\n",
       "    .dataframe tbody tr th:only-of-type {\n",
       "        vertical-align: middle;\n",
       "    }\n",
       "\n",
       "    .dataframe tbody tr th {\n",
       "        vertical-align: top;\n",
       "    }\n",
       "\n",
       "    .dataframe thead th {\n",
       "        text-align: right;\n",
       "    }\n",
       "</style>\n",
       "<table border=\"1\" class=\"dataframe\">\n",
       "  <thead>\n",
       "    <tr style=\"text-align: right;\">\n",
       "      <th></th>\n",
       "      <th>ts</th>\n",
       "      <th>data</th>\n",
       "      <th>location</th>\n",
       "      <th>uid</th>\n",
       "    </tr>\n",
       "  </thead>\n",
       "  <tbody>\n",
       "    <tr>\n",
       "      <td>0</td>\n",
       "      <td>2020-02-28 23:42:51+00:00</td>\n",
       "      <td>RT MikeBloomberg: Shouldn’t you be worrying ab...</td>\n",
       "      <td>New York</td>\n",
       "      <td>2.654832e+07</td>\n",
       "    </tr>\n",
       "    <tr>\n",
       "      <td>1</td>\n",
       "      <td>2020-03-05 23:43:42+00:00</td>\n",
       "      <td>RT mattdpearce: Pretty stark statement from a ...</td>\n",
       "      <td>New York</td>\n",
       "      <td>2.654832e+07</td>\n",
       "    </tr>\n",
       "    <tr>\n",
       "      <td>2</td>\n",
       "      <td>2020-03-05 23:45:11+00:00</td>\n",
       "      <td>Starbucks canceled their annual meeting of sha...</td>\n",
       "      <td>??? Tokyo</td>\n",
       "      <td>2.084434e+07</td>\n",
       "    </tr>\n",
       "    <tr>\n",
       "      <td>3</td>\n",
       "      <td>2020-01-27 21:06:27+00:00</td>\n",
       "      <td>Lost a few followers due to my tweets.. I gues...</td>\n",
       "      <td>10x Views are thine own</td>\n",
       "      <td>2.999031e+07</td>\n",
       "    </tr>\n",
       "    <tr>\n",
       "      <td>4</td>\n",
       "      <td>2020-02-15 17:06:02+00:00</td>\n",
       "      <td>Sidragon1 elkentaro I'm wondering which spread...</td>\n",
       "      <td>181 Metro Dr  6 San Jose, CA</td>\n",
       "      <td>2.202322e+09</td>\n",
       "    </tr>\n",
       "  </tbody>\n",
       "</table>\n",
       "</div>"
      ],
      "text/plain": [
       "                         ts  \\\n",
       "0 2020-02-28 23:42:51+00:00   \n",
       "1 2020-03-05 23:43:42+00:00   \n",
       "2 2020-03-05 23:45:11+00:00   \n",
       "3 2020-01-27 21:06:27+00:00   \n",
       "4 2020-02-15 17:06:02+00:00   \n",
       "\n",
       "                                                data  \\\n",
       "0  RT MikeBloomberg: Shouldn’t you be worrying ab...   \n",
       "1  RT mattdpearce: Pretty stark statement from a ...   \n",
       "2  Starbucks canceled their annual meeting of sha...   \n",
       "3  Lost a few followers due to my tweets.. I gues...   \n",
       "4  Sidragon1 elkentaro I'm wondering which spread...   \n",
       "\n",
       "                        location           uid  \n",
       "0                       New York  2.654832e+07  \n",
       "1                       New York  2.654832e+07  \n",
       "2                      ??? Tokyo  2.084434e+07  \n",
       "3       10x Views are thine own   2.999031e+07  \n",
       "4  181 Metro Dr  6 San Jose, CA   2.202322e+09  "
      ]
     },
     "execution_count": 2,
     "metadata": {},
     "output_type": "execute_result"
    }
   ],
   "source": [
    "df = pd.read_csv(\"/home/npgentry/Dropbox/org/data/be/8f1528-7ed8-40fb-b549-0c652975b83d/cv/filtered.csv\", \n",
    "                 encoding=\"cp1252\")\n",
    "df = df.drop(['id', 'screen_name'], axis=1)\n",
    "df.location = df.location.apply(\n",
    "    lambda v: unicodedata.normalize('NFKD', v).encode('ascii', 'ignore').decode()\n",
    ")\n",
    "df.ts = pd.to_datetime(df.ts)\n",
    "print(df.shape)\n",
    "df.head()"
   ]
  },
  {
   "cell_type": "markdown",
   "metadata": {},
   "source": [
    "Let's filter out all the junk location data and only keep the locations we know about, which we compute by a simple greedy substring match against the list of known cities."
   ]
  },
  {
   "cell_type": "code",
   "execution_count": 3,
   "metadata": {},
   "outputs": [],
   "source": [
    "cities = pd.read_csv(\"/home/npgentry/Dropbox/org/data/be/8f1528-7ed8-40fb-b549-0c652975b83d/cv/worldcities.csv\")\n",
    "cities = cities.city_ascii.reindex(\n",
    "    cities.city_ascii.str.len().sort_values(ascending=False).index\n",
    ")\n",
    "rex = '|'.join(cities) + r'|$'\n",
    "df.location = df.location.apply(\n",
    "    lambda l: re.search(rex, l)[0]\n",
    ")\n",
    "df = df.loc[df.location != '']"
   ]
  },
  {
   "cell_type": "markdown",
   "metadata": {},
   "source": [
    "I also wonder how many unique locations we have."
   ]
  },
  {
   "cell_type": "code",
   "execution_count": 4,
   "metadata": {},
   "outputs": [
    {
     "data": {
      "text/plain": [
       "121"
      ]
     },
     "execution_count": 4,
     "metadata": {},
     "output_type": "execute_result"
    }
   ],
   "source": [
    "len(df.location.unique())"
   ]
  },
  {
   "cell_type": "markdown",
   "metadata": {},
   "source": [
    "We also want to bin by languages, so let's detect the language of the remaining posts."
   ]
  },
  {
   "cell_type": "code",
   "execution_count": 5,
   "metadata": {},
   "outputs": [],
   "source": [
    "try: \n",
    "    languages\n",
    "except:\n",
    "    languages = [detect(d) for d in df.data]"
   ]
  },
  {
   "cell_type": "code",
   "execution_count": 6,
   "metadata": {},
   "outputs": [
    {
     "data": {
      "text/html": [
       "<div>\n",
       "<style scoped>\n",
       "    .dataframe tbody tr th:only-of-type {\n",
       "        vertical-align: middle;\n",
       "    }\n",
       "\n",
       "    .dataframe tbody tr th {\n",
       "        vertical-align: top;\n",
       "    }\n",
       "\n",
       "    .dataframe thead th {\n",
       "        text-align: right;\n",
       "    }\n",
       "</style>\n",
       "<table border=\"1\" class=\"dataframe\">\n",
       "  <thead>\n",
       "    <tr style=\"text-align: right;\">\n",
       "      <th></th>\n",
       "      <th>lang</th>\n",
       "    </tr>\n",
       "  </thead>\n",
       "  <tbody>\n",
       "    <tr>\n",
       "      <td>en</td>\n",
       "      <td>1528</td>\n",
       "    </tr>\n",
       "    <tr>\n",
       "      <td>es</td>\n",
       "      <td>1412</td>\n",
       "    </tr>\n",
       "    <tr>\n",
       "      <td>ca</td>\n",
       "      <td>43</td>\n",
       "    </tr>\n",
       "    <tr>\n",
       "      <td>it</td>\n",
       "      <td>9</td>\n",
       "    </tr>\n",
       "    <tr>\n",
       "      <td>pt</td>\n",
       "      <td>8</td>\n",
       "    </tr>\n",
       "    <tr>\n",
       "      <td>fr</td>\n",
       "      <td>4</td>\n",
       "    </tr>\n",
       "    <tr>\n",
       "      <td>de</td>\n",
       "      <td>2</td>\n",
       "    </tr>\n",
       "  </tbody>\n",
       "</table>\n",
       "</div>"
      ],
      "text/plain": [
       "    lang\n",
       "en  1528\n",
       "es  1412\n",
       "ca    43\n",
       "it     9\n",
       "pt     8\n",
       "fr     4\n",
       "de     2"
      ]
     },
     "execution_count": 6,
     "metadata": {},
     "output_type": "execute_result"
    }
   ],
   "source": [
    "df['lang'] = languages\n",
    "df.lang.value_counts().to_frame()"
   ]
  },
  {
   "cell_type": "markdown",
   "metadata": {},
   "source": [
    "I wonder what the most popular languages are, and the most populated locations."
   ]
  },
  {
   "cell_type": "code",
   "execution_count": 7,
   "metadata": {},
   "outputs": [
    {
     "data": {
      "text/html": [
       "<div>\n",
       "<style scoped>\n",
       "    .dataframe tbody tr th:only-of-type {\n",
       "        vertical-align: middle;\n",
       "    }\n",
       "\n",
       "    .dataframe tbody tr th {\n",
       "        vertical-align: top;\n",
       "    }\n",
       "\n",
       "    .dataframe thead th {\n",
       "        text-align: right;\n",
       "    }\n",
       "</style>\n",
       "<table border=\"1\" class=\"dataframe\">\n",
       "  <thead>\n",
       "    <tr style=\"text-align: right;\">\n",
       "      <th></th>\n",
       "      <th>location</th>\n",
       "    </tr>\n",
       "  </thead>\n",
       "  <tbody>\n",
       "    <tr>\n",
       "      <td>Mexico</td>\n",
       "      <td>1120</td>\n",
       "    </tr>\n",
       "    <tr>\n",
       "      <td>New York</td>\n",
       "      <td>424</td>\n",
       "    </tr>\n",
       "    <tr>\n",
       "      <td>Mexico City</td>\n",
       "      <td>206</td>\n",
       "    </tr>\n",
       "    <tr>\n",
       "      <td>Washington</td>\n",
       "      <td>167</td>\n",
       "    </tr>\n",
       "    <tr>\n",
       "      <td>San Diego</td>\n",
       "      <td>97</td>\n",
       "    </tr>\n",
       "    <tr>\n",
       "      <td>...</td>\n",
       "      <td>...</td>\n",
       "    </tr>\n",
       "    <tr>\n",
       "      <td>Bakersfield</td>\n",
       "      <td>1</td>\n",
       "    </tr>\n",
       "    <tr>\n",
       "      <td>Olympia</td>\n",
       "      <td>1</td>\n",
       "    </tr>\n",
       "    <tr>\n",
       "      <td>Charlotte</td>\n",
       "      <td>1</td>\n",
       "    </tr>\n",
       "    <tr>\n",
       "      <td>Northbrook</td>\n",
       "      <td>1</td>\n",
       "    </tr>\n",
       "    <tr>\n",
       "      <td>Detroit</td>\n",
       "      <td>1</td>\n",
       "    </tr>\n",
       "  </tbody>\n",
       "</table>\n",
       "<p>121 rows × 1 columns</p>\n",
       "</div>"
      ],
      "text/plain": [
       "             location\n",
       "Mexico           1120\n",
       "New York          424\n",
       "Mexico City       206\n",
       "Washington        167\n",
       "San Diego          97\n",
       "...               ...\n",
       "Bakersfield         1\n",
       "Olympia             1\n",
       "Charlotte           1\n",
       "Northbrook          1\n",
       "Detroit             1\n",
       "\n",
       "[121 rows x 1 columns]"
      ]
     },
     "execution_count": 7,
     "metadata": {},
     "output_type": "execute_result"
    }
   ],
   "source": [
    "df.location.value_counts().to_frame()"
   ]
  },
  {
   "cell_type": "markdown",
   "metadata": {},
   "source": [
    "## Sample queries"
   ]
  },
  {
   "cell_type": "markdown",
   "metadata": {},
   "source": [
    "Many of the operations here come from this excellent [Kaggle tutorial](https://www.kaggle.com/residentmario/grouping-and-sorting). I finally understand how pandas groupings work, and this notation is becomeing as intuitive as SQL. MultiIndices are pretty cool."
   ]
  },
  {
   "cell_type": "code",
   "execution_count": 8,
   "metadata": {},
   "outputs": [
    {
     "data": {
      "text/html": [
       "<div>\n",
       "<style scoped>\n",
       "    .dataframe tbody tr th:only-of-type {\n",
       "        vertical-align: middle;\n",
       "    }\n",
       "\n",
       "    .dataframe tbody tr th {\n",
       "        vertical-align: top;\n",
       "    }\n",
       "\n",
       "    .dataframe thead th {\n",
       "        text-align: right;\n",
       "    }\n",
       "</style>\n",
       "<table border=\"1\" class=\"dataframe\">\n",
       "  <thead>\n",
       "    <tr style=\"text-align: right;\">\n",
       "      <th></th>\n",
       "      <th></th>\n",
       "      <th></th>\n",
       "      <th>data</th>\n",
       "    </tr>\n",
       "    <tr>\n",
       "      <th>ts</th>\n",
       "      <th>location</th>\n",
       "      <th>lang</th>\n",
       "      <th></th>\n",
       "    </tr>\n",
       "  </thead>\n",
       "  <tbody>\n",
       "    <tr>\n",
       "      <td rowspan=\"5\" valign=\"top\">2020-01-31 00:00:00+00:00</td>\n",
       "      <td rowspan=\"3\" valign=\"top\">Atlanta</td>\n",
       "      <td>ca</td>\n",
       "      <td>1</td>\n",
       "    </tr>\n",
       "    <tr>\n",
       "      <td>en</td>\n",
       "      <td>1</td>\n",
       "    </tr>\n",
       "    <tr>\n",
       "      <td>es</td>\n",
       "      <td>8</td>\n",
       "    </tr>\n",
       "    <tr>\n",
       "      <td>Atlantic City</td>\n",
       "      <td>en</td>\n",
       "      <td>5</td>\n",
       "    </tr>\n",
       "    <tr>\n",
       "      <td>Auburn</td>\n",
       "      <td>en</td>\n",
       "      <td>1</td>\n",
       "    </tr>\n",
       "    <tr>\n",
       "      <td>...</td>\n",
       "      <td>...</td>\n",
       "      <td>...</td>\n",
       "      <td>...</td>\n",
       "    </tr>\n",
       "    <tr>\n",
       "      <td rowspan=\"5\" valign=\"top\">2020-03-31 00:00:00+00:00</td>\n",
       "      <td>Wall</td>\n",
       "      <td>en</td>\n",
       "      <td>1</td>\n",
       "    </tr>\n",
       "    <tr>\n",
       "      <td>Washington</td>\n",
       "      <td>en</td>\n",
       "      <td>50</td>\n",
       "    </tr>\n",
       "    <tr>\n",
       "      <td>We</td>\n",
       "      <td>en</td>\n",
       "      <td>3</td>\n",
       "    </tr>\n",
       "    <tr>\n",
       "      <td>Westminster</td>\n",
       "      <td>en</td>\n",
       "      <td>4</td>\n",
       "    </tr>\n",
       "    <tr>\n",
       "      <td>Wyoming</td>\n",
       "      <td>en</td>\n",
       "      <td>1</td>\n",
       "    </tr>\n",
       "  </tbody>\n",
       "</table>\n",
       "<p>258 rows × 1 columns</p>\n",
       "</div>"
      ],
      "text/plain": [
       "                                              data\n",
       "ts                        location      lang      \n",
       "2020-01-31 00:00:00+00:00 Atlanta       ca       1\n",
       "                                        en       1\n",
       "                                        es       8\n",
       "                          Atlantic City en       5\n",
       "                          Auburn        en       1\n",
       "...                                            ...\n",
       "2020-03-31 00:00:00+00:00 Wall          en       1\n",
       "                          Washington    en      50\n",
       "                          We            en       3\n",
       "                          Westminster   en       4\n",
       "                          Wyoming       en       1\n",
       "\n",
       "[258 rows x 1 columns]"
      ]
     },
     "execution_count": 8,
     "metadata": {},
     "output_type": "execute_result"
    }
   ],
   "source": [
    "df.groupby([pd.Grouper(key='ts', freq='M'), df.location, df.lang]).data.count().to_frame()"
   ]
  },
  {
   "cell_type": "markdown",
   "metadata": {},
   "source": [
    "1. What are the languages used in each month, sorted in descending order of frequency?"
   ]
  },
  {
   "cell_type": "code",
   "execution_count": 9,
   "metadata": {},
   "outputs": [
    {
     "data": {
      "text/html": [
       "<div>\n",
       "<style scoped>\n",
       "    .dataframe tbody tr th:only-of-type {\n",
       "        vertical-align: middle;\n",
       "    }\n",
       "\n",
       "    .dataframe tbody tr th {\n",
       "        vertical-align: top;\n",
       "    }\n",
       "\n",
       "    .dataframe thead th {\n",
       "        text-align: right;\n",
       "    }\n",
       "</style>\n",
       "<table border=\"1\" class=\"dataframe\">\n",
       "  <thead>\n",
       "    <tr style=\"text-align: right;\">\n",
       "      <th></th>\n",
       "      <th></th>\n",
       "      <th>data</th>\n",
       "    </tr>\n",
       "    <tr>\n",
       "      <th>ts</th>\n",
       "      <th>lang</th>\n",
       "      <th></th>\n",
       "    </tr>\n",
       "  </thead>\n",
       "  <tbody>\n",
       "    <tr>\n",
       "      <td rowspan=\"4\" valign=\"top\">2020-01-31 00:00:00+00:00</td>\n",
       "      <td>es</td>\n",
       "      <td>520</td>\n",
       "    </tr>\n",
       "    <tr>\n",
       "      <td>en</td>\n",
       "      <td>293</td>\n",
       "    </tr>\n",
       "    <tr>\n",
       "      <td>ca</td>\n",
       "      <td>17</td>\n",
       "    </tr>\n",
       "    <tr>\n",
       "      <td>pt</td>\n",
       "      <td>3</td>\n",
       "    </tr>\n",
       "    <tr>\n",
       "      <td rowspan=\"7\" valign=\"top\">2020-02-29 00:00:00+00:00</td>\n",
       "      <td>en</td>\n",
       "      <td>848</td>\n",
       "    </tr>\n",
       "    <tr>\n",
       "      <td>es</td>\n",
       "      <td>740</td>\n",
       "    </tr>\n",
       "    <tr>\n",
       "      <td>ca</td>\n",
       "      <td>19</td>\n",
       "    </tr>\n",
       "    <tr>\n",
       "      <td>it</td>\n",
       "      <td>5</td>\n",
       "    </tr>\n",
       "    <tr>\n",
       "      <td>pt</td>\n",
       "      <td>4</td>\n",
       "    </tr>\n",
       "    <tr>\n",
       "      <td>de</td>\n",
       "      <td>2</td>\n",
       "    </tr>\n",
       "    <tr>\n",
       "      <td>fr</td>\n",
       "      <td>2</td>\n",
       "    </tr>\n",
       "    <tr>\n",
       "      <td rowspan=\"6\" valign=\"top\">2020-03-31 00:00:00+00:00</td>\n",
       "      <td>en</td>\n",
       "      <td>387</td>\n",
       "    </tr>\n",
       "    <tr>\n",
       "      <td>es</td>\n",
       "      <td>152</td>\n",
       "    </tr>\n",
       "    <tr>\n",
       "      <td>ca</td>\n",
       "      <td>7</td>\n",
       "    </tr>\n",
       "    <tr>\n",
       "      <td>it</td>\n",
       "      <td>4</td>\n",
       "    </tr>\n",
       "    <tr>\n",
       "      <td>fr</td>\n",
       "      <td>2</td>\n",
       "    </tr>\n",
       "    <tr>\n",
       "      <td>pt</td>\n",
       "      <td>1</td>\n",
       "    </tr>\n",
       "  </tbody>\n",
       "</table>\n",
       "</div>"
      ],
      "text/plain": [
       "                                data\n",
       "ts                        lang      \n",
       "2020-01-31 00:00:00+00:00 es     520\n",
       "                          en     293\n",
       "                          ca      17\n",
       "                          pt       3\n",
       "2020-02-29 00:00:00+00:00 en     848\n",
       "                          es     740\n",
       "                          ca      19\n",
       "                          it       5\n",
       "                          pt       4\n",
       "                          de       2\n",
       "                          fr       2\n",
       "2020-03-31 00:00:00+00:00 en     387\n",
       "                          es     152\n",
       "                          ca       7\n",
       "                          it       4\n",
       "                          fr       2\n",
       "                          pt       1"
      ]
     },
     "metadata": {},
     "output_type": "execute_result"
    }
   ],
   "source": [
    "with pd.option_context('display.max_rows', None, 'display.max_columns', None):\n",
    "    tdf = df.groupby([pd.Grouper(key='ts', freq='M'), df.lang]).data.count()\n",
    "    display(tdf.reset_index().sort_values(['ts', 'data'], ascending=[True, False]).set_index(['ts', 'lang']))"
   ]
  },
  {
   "cell_type": "markdown",
   "metadata": {},
   "source": [
    "2. What are the languages used in each location each month, sorted in total posts per location and then in descending order of language frequency?"
   ]
  },
  {
   "cell_type": "code",
   "execution_count": 10,
   "metadata": {},
   "outputs": [
    {
     "data": {
      "text/html": [
       "<div>\n",
       "<style scoped>\n",
       "    .dataframe tbody tr th:only-of-type {\n",
       "        vertical-align: middle;\n",
       "    }\n",
       "\n",
       "    .dataframe tbody tr th {\n",
       "        vertical-align: top;\n",
       "    }\n",
       "\n",
       "    .dataframe thead th {\n",
       "        text-align: right;\n",
       "    }\n",
       "</style>\n",
       "<table border=\"1\" class=\"dataframe\">\n",
       "  <thead>\n",
       "    <tr style=\"text-align: right;\">\n",
       "      <th></th>\n",
       "      <th></th>\n",
       "      <th>data</th>\n",
       "    </tr>\n",
       "    <tr>\n",
       "      <th>location</th>\n",
       "      <th>lang</th>\n",
       "      <th></th>\n",
       "    </tr>\n",
       "  </thead>\n",
       "  <tbody>\n",
       "    <tr>\n",
       "      <td rowspan=\"4\" valign=\"top\">Mexico</td>\n",
       "      <td>es</td>\n",
       "      <td>391</td>\n",
       "    </tr>\n",
       "    <tr>\n",
       "      <td>ca</td>\n",
       "      <td>12</td>\n",
       "    </tr>\n",
       "    <tr>\n",
       "      <td>en</td>\n",
       "      <td>7</td>\n",
       "    </tr>\n",
       "    <tr>\n",
       "      <td>pt</td>\n",
       "      <td>2</td>\n",
       "    </tr>\n",
       "    <tr>\n",
       "      <td>New York</td>\n",
       "      <td>en</td>\n",
       "      <td>86</td>\n",
       "    </tr>\n",
       "    <tr>\n",
       "      <td>Mexico City</td>\n",
       "      <td>es</td>\n",
       "      <td>82</td>\n",
       "    </tr>\n",
       "    <tr>\n",
       "      <td>Washington</td>\n",
       "      <td>en</td>\n",
       "      <td>35</td>\n",
       "    </tr>\n",
       "    <tr>\n",
       "      <td rowspan=\"3\" valign=\"top\">Morelia</td>\n",
       "      <td>es</td>\n",
       "      <td>20</td>\n",
       "    </tr>\n",
       "    <tr>\n",
       "      <td>ca</td>\n",
       "      <td>3</td>\n",
       "    </tr>\n",
       "    <tr>\n",
       "      <td>en</td>\n",
       "      <td>1</td>\n",
       "    </tr>\n",
       "    <tr>\n",
       "      <td>Doha</td>\n",
       "      <td>en</td>\n",
       "      <td>17</td>\n",
       "    </tr>\n",
       "    <tr>\n",
       "      <td>Guadalajara</td>\n",
       "      <td>es</td>\n",
       "      <td>17</td>\n",
       "    </tr>\n",
       "  </tbody>\n",
       "</table>\n",
       "</div>"
      ],
      "text/plain": [
       "                  data\n",
       "location    lang      \n",
       "Mexico      es     391\n",
       "            ca      12\n",
       "            en       7\n",
       "            pt       2\n",
       "New York    en      86\n",
       "Mexico City es      82\n",
       "Washington  en      35\n",
       "Morelia     es      20\n",
       "            ca       3\n",
       "            en       1\n",
       "Doha        en      17\n",
       "Guadalajara es      17"
      ]
     },
     "metadata": {},
     "output_type": "execute_result"
    }
   ],
   "source": [
    "with pd.option_context('display.max_rows', 50, 'display.max_columns', None):\n",
    "    tdf = df.groupby([pd.Grouper(key='ts', freq='M'), df.location, df.lang]).data.count().to_frame()\n",
    "    tdf['sum'] = tdf.groupby(level=[0, 1])['data'].transform('sum')\n",
    "    tdf = tdf.reset_index().sort_values(\n",
    "        ['ts', 'sum', 'location', 'data'], ascending=[True, False, True, False]\n",
    "    ).drop('sum', axis=1).set_index(['ts', 'location', 'lang'])\n",
    "    \n",
    "    # just show the first month\n",
    "    display(tdf.xs(tdf.index[0][0]).head(12))"
   ]
  },
  {
   "cell_type": "markdown",
   "metadata": {},
   "source": [
    "3. What were the number of Catalan posts in each location per month, sorted in descencing order of post frequency?"
   ]
  },
  {
   "cell_type": "markdown",
   "metadata": {},
   "source": [
    "This solution uses the rather sneaky `IndexSlice`, which I read about [here](https://www.somebits.com/~nelson/pandas-multiindex-slice-demo.html)."
   ]
  },
  {
   "cell_type": "code",
   "execution_count": 11,
   "metadata": {},
   "outputs": [
    {
     "data": {
      "text/html": [
       "<div>\n",
       "<style scoped>\n",
       "    .dataframe tbody tr th:only-of-type {\n",
       "        vertical-align: middle;\n",
       "    }\n",
       "\n",
       "    .dataframe tbody tr th {\n",
       "        vertical-align: top;\n",
       "    }\n",
       "\n",
       "    .dataframe thead th {\n",
       "        text-align: right;\n",
       "    }\n",
       "</style>\n",
       "<table border=\"1\" class=\"dataframe\">\n",
       "  <thead>\n",
       "    <tr style=\"text-align: right;\">\n",
       "      <th></th>\n",
       "      <th></th>\n",
       "      <th></th>\n",
       "      <th>data</th>\n",
       "    </tr>\n",
       "    <tr>\n",
       "      <th>ts</th>\n",
       "      <th>location</th>\n",
       "      <th>lang</th>\n",
       "      <th></th>\n",
       "    </tr>\n",
       "  </thead>\n",
       "  <tbody>\n",
       "    <tr>\n",
       "      <td rowspan=\"4\" valign=\"top\">2020-01-31 00:00:00+00:00</td>\n",
       "      <td>Mexico</td>\n",
       "      <td>ca</td>\n",
       "      <td>12</td>\n",
       "    </tr>\n",
       "    <tr>\n",
       "      <td>Morelia</td>\n",
       "      <td>ca</td>\n",
       "      <td>3</td>\n",
       "    </tr>\n",
       "    <tr>\n",
       "      <td>Atlanta</td>\n",
       "      <td>ca</td>\n",
       "      <td>1</td>\n",
       "    </tr>\n",
       "    <tr>\n",
       "      <td>York</td>\n",
       "      <td>ca</td>\n",
       "      <td>1</td>\n",
       "    </tr>\n",
       "    <tr>\n",
       "      <td rowspan=\"2\" valign=\"top\">2020-02-29 00:00:00+00:00</td>\n",
       "      <td>Mexico</td>\n",
       "      <td>ca</td>\n",
       "      <td>17</td>\n",
       "    </tr>\n",
       "    <tr>\n",
       "      <td>Morelia</td>\n",
       "      <td>ca</td>\n",
       "      <td>2</td>\n",
       "    </tr>\n",
       "    <tr>\n",
       "      <td rowspan=\"2\" valign=\"top\">2020-03-31 00:00:00+00:00</td>\n",
       "      <td>Mexico</td>\n",
       "      <td>ca</td>\n",
       "      <td>6</td>\n",
       "    </tr>\n",
       "    <tr>\n",
       "      <td>Morelia</td>\n",
       "      <td>ca</td>\n",
       "      <td>1</td>\n",
       "    </tr>\n",
       "  </tbody>\n",
       "</table>\n",
       "</div>"
      ],
      "text/plain": [
       "                                         data\n",
       "ts                        location lang      \n",
       "2020-01-31 00:00:00+00:00 Mexico   ca      12\n",
       "                          Morelia  ca       3\n",
       "                          Atlanta  ca       1\n",
       "                          York     ca       1\n",
       "2020-02-29 00:00:00+00:00 Mexico   ca      17\n",
       "                          Morelia  ca       2\n",
       "2020-03-31 00:00:00+00:00 Mexico   ca       6\n",
       "                          Morelia  ca       1"
      ]
     },
     "metadata": {},
     "output_type": "execute_result"
    }
   ],
   "source": [
    "display(tdf.loc[pd.IndexSlice[:,:,['ca']],:].sort_values(['ts', 'data'], ascending=[True, False]))"
   ]
  },
  {
   "cell_type": "markdown",
   "metadata": {},
   "source": [
    "What location had the most Catalan posts, in each given month?"
   ]
  },
  {
   "cell_type": "code",
   "execution_count": 12,
   "metadata": {},
   "outputs": [
    {
     "data": {
      "text/html": [
       "<div>\n",
       "<style scoped>\n",
       "    .dataframe tbody tr th:only-of-type {\n",
       "        vertical-align: middle;\n",
       "    }\n",
       "\n",
       "    .dataframe tbody tr th {\n",
       "        vertical-align: top;\n",
       "    }\n",
       "\n",
       "    .dataframe thead th {\n",
       "        text-align: right;\n",
       "    }\n",
       "</style>\n",
       "<table border=\"1\" class=\"dataframe\">\n",
       "  <thead>\n",
       "    <tr style=\"text-align: right;\">\n",
       "      <th></th>\n",
       "      <th></th>\n",
       "      <th></th>\n",
       "      <th>data</th>\n",
       "    </tr>\n",
       "    <tr>\n",
       "      <th>ts</th>\n",
       "      <th>location</th>\n",
       "      <th>lang</th>\n",
       "      <th></th>\n",
       "    </tr>\n",
       "  </thead>\n",
       "  <tbody>\n",
       "    <tr>\n",
       "      <td>2020-01-31 00:00:00+00:00</td>\n",
       "      <td>New York</td>\n",
       "      <td>en</td>\n",
       "      <td>86</td>\n",
       "    </tr>\n",
       "    <tr>\n",
       "      <td>2020-02-29 00:00:00+00:00</td>\n",
       "      <td>New York</td>\n",
       "      <td>en</td>\n",
       "      <td>247</td>\n",
       "    </tr>\n",
       "    <tr>\n",
       "      <td>2020-03-31 00:00:00+00:00</td>\n",
       "      <td>New York</td>\n",
       "      <td>en</td>\n",
       "      <td>91</td>\n",
       "    </tr>\n",
       "  </tbody>\n",
       "</table>\n",
       "</div>"
      ],
      "text/plain": [
       "                                         data\n",
       "ts                        location lang      \n",
       "2020-01-31 00:00:00+00:00 New York en      86\n",
       "2020-02-29 00:00:00+00:00 New York en     247\n",
       "2020-03-31 00:00:00+00:00 New York en      91"
      ]
     },
     "execution_count": 12,
     "metadata": {},
     "output_type": "execute_result"
    }
   ],
   "source": [
    "tdf.loc[pd.IndexSlice[:,:,['en']],:].sort_values(['ts', 'data'], ascending=[True, False]).groupby(level=[0]).head(1)"
   ]
  },
  {
   "cell_type": "markdown",
   "metadata": {},
   "source": [
    "What are the most multilinugual locations? We aren't just asking how many posts there are per language; we want to know how many languages there are represented. So we need some form of _diversity score_."
   ]
  },
  {
   "cell_type": "markdown",
   "metadata": {},
   "source": [
    "## Tensor construction"
   ]
  },
  {
   "cell_type": "code",
   "execution_count": 13,
   "metadata": {},
   "outputs": [],
   "source": [
    "import tensorflow as tf\n",
    "import tensorly as tl\n",
    "tl.set_backend('numpy')"
   ]
  },
  {
   "cell_type": "markdown",
   "metadata": {},
   "source": [
    "We will create a sample tensor on a sample of month, city, and language. We want to get dense data, so let's choose the most representative examples."
   ]
  },
  {
   "cell_type": "code",
   "execution_count": 14,
   "metadata": {},
   "outputs": [],
   "source": [
    "sample_cities = [\"Washington\",\"Sydney\",\"San Diego\", \"New York\", \"Hyderabad\"]\n",
    "sample_langs = ['en', 'es', 'it']\n",
    "sdf = df.loc[\n",
    "    df.location.str.contains('|'.join(sample_cities)) & df.lang.isin(sample_langs)\n",
    "]"
   ]
  },
  {
   "cell_type": "code",
   "execution_count": 15,
   "metadata": {},
   "outputs": [
    {
     "data": {
      "text/html": [
       "<div>\n",
       "<style scoped>\n",
       "    .dataframe tbody tr th:only-of-type {\n",
       "        vertical-align: middle;\n",
       "    }\n",
       "\n",
       "    .dataframe tbody tr th {\n",
       "        vertical-align: top;\n",
       "    }\n",
       "\n",
       "    .dataframe thead th {\n",
       "        text-align: right;\n",
       "    }\n",
       "</style>\n",
       "<table border=\"1\" class=\"dataframe\">\n",
       "  <thead>\n",
       "    <tr style=\"text-align: right;\">\n",
       "      <th></th>\n",
       "      <th></th>\n",
       "      <th>data</th>\n",
       "    </tr>\n",
       "    <tr>\n",
       "      <th>location</th>\n",
       "      <th>lang</th>\n",
       "      <th></th>\n",
       "    </tr>\n",
       "  </thead>\n",
       "  <tbody>\n",
       "    <tr>\n",
       "      <td>Hyderabad</td>\n",
       "      <td>en</td>\n",
       "      <td>3</td>\n",
       "    </tr>\n",
       "    <tr>\n",
       "      <td>New York</td>\n",
       "      <td>en</td>\n",
       "      <td>86</td>\n",
       "    </tr>\n",
       "    <tr>\n",
       "      <td>San Diego</td>\n",
       "      <td>en</td>\n",
       "      <td>3</td>\n",
       "    </tr>\n",
       "    <tr>\n",
       "      <td>Sydney</td>\n",
       "      <td>en</td>\n",
       "      <td>9</td>\n",
       "    </tr>\n",
       "    <tr>\n",
       "      <td>Washington</td>\n",
       "      <td>en</td>\n",
       "      <td>35</td>\n",
       "    </tr>\n",
       "  </tbody>\n",
       "</table>\n",
       "</div>"
      ],
      "text/plain": [
       "                 data\n",
       "location   lang      \n",
       "Hyderabad  en       3\n",
       "New York   en      86\n",
       "San Diego  en       3\n",
       "Sydney     en       9\n",
       "Washington en      35"
      ]
     },
     "execution_count": 15,
     "metadata": {},
     "output_type": "execute_result"
    }
   ],
   "source": [
    "pretensor = sdf.groupby([pd.Grouper(key='ts', freq='M'), sdf.location, sdf.lang]).data.count().to_frame()\n",
    "pretensor.xs(tdf.index[0][0])"
   ]
  },
  {
   "cell_type": "code",
   "execution_count": 16,
   "metadata": {},
   "outputs": [
    {
     "data": {
      "text/plain": [
       "array([[[  3.,   0.,   0.],\n",
       "        [ 86.,   0.,   0.],\n",
       "        [  3.,   0.,   0.],\n",
       "        [  9.,   0.,   0.],\n",
       "        [ 35.,   0.,   0.]],\n",
       "\n",
       "       [[ 50.,   3.,   4.],\n",
       "        [247.,   0.,   0.],\n",
       "        [ 81.,   0.,   0.],\n",
       "        [ 22.,   0.,   0.],\n",
       "        [ 82.,   0.,   0.]],\n",
       "\n",
       "       [[ 13.,   0.,   1.],\n",
       "        [ 91.,   0.,   0.],\n",
       "        [ 13.,   0.,   0.],\n",
       "        [ 18.,   0.,   0.],\n",
       "        [ 50.,   0.,   0.]]])"
      ]
     },
     "execution_count": 16,
     "metadata": {},
     "output_type": "execute_result"
    }
   ],
   "source": [
    "# https://stackoverflow.com/questions/35047882/transform-pandas-dataframe-with-n-level-hierarchical-index-into-n-d-numpy-array\n",
    "shape = map(len, pretensor.index.levels)\n",
    "arr = np.zeros(list(shape))\n",
    "arr[tuple(pretensor.index.codes)] = pretensor.values.flat\n",
    "tensor = tl.tensor(arr)\n",
    "tensor"
   ]
  },
  {
   "cell_type": "code",
   "execution_count": 17,
   "metadata": {},
   "outputs": [
    {
     "data": {
      "text/plain": [
       "[array([[ -90.88994244,    1.76306985],\n",
       "        [-277.09502882,   -2.03137052],\n",
       "        [-105.1205647 ,    1.60478434]]),\n",
       " array([[ 0.15128399,  2.12626483],\n",
       "        [ 0.89441475, -0.27273976],\n",
       "        [ 0.22963445,  4.46880567],\n",
       "        [ 0.09730267, -1.20494124],\n",
       "        [ 0.33774158, -2.87094272]]),\n",
       " array([[-1.00000784e+00, -1.92957151e+00],\n",
       "        [-1.30826858e-03, -3.85380304e-02],\n",
       "        [-1.91041975e-03, -4.12296270e-02]])]"
      ]
     },
     "execution_count": 17,
     "metadata": {},
     "output_type": "execute_result"
    }
   ],
   "source": [
    "from tensorly.decomposition import parafac\n",
    "\n",
    "weights, factors = parafac(tensor, rank=2)\n",
    "factors"
   ]
  },
  {
   "cell_type": "markdown",
   "metadata": {},
   "source": [
    "## Latent Dirchlet allocation"
   ]
  },
  {
   "cell_type": "markdown",
   "metadata": {},
   "source": [
    "We first take the following santizing steps, which come from [this great guide](https://www.earthdatascience.org/courses/use-data-open-source-python/intro-to-apis/calculate-tweet-word-frequencies-in-python/).\n",
    " 1. Remove all punctuation and URLs;\n",
    " 2. Change all text to lowercaase"
   ]
  },
  {
   "cell_type": "code",
   "execution_count": 18,
   "metadata": {},
   "outputs": [
    {
     "name": "stderr",
     "output_type": "stream",
     "text": [
      "/home/npgentry/.local/lib/python3.7/site-packages/ipykernel_launcher.py:4: SettingWithCopyWarning: \n",
      "A value is trying to be set on a copy of a slice from a DataFrame.\n",
      "Try using .loc[row_indexer,col_indexer] = value instead\n",
      "\n",
      "See the caveats in the documentation: http://pandas.pydata.org/pandas-docs/stable/user_guide/indexing.html#returning-a-view-versus-a-copy\n",
      "  after removing the cwd from sys.path.\n"
     ]
    }
   ],
   "source": [
    "endf = df.loc[df.lang == 'en']\n",
    "\n",
    "endf['data'] = endf['data'].map(lambda x: x.lower()).map(\n",
    "    lambda x: re.sub('[,\\.!?]|(https?.*)|rt', '', x)\n",
    ")"
   ]
  },
  {
   "cell_type": "markdown",
   "metadata": {},
   "source": [
    "Our next goal is creating a histogram. Let's get raw word frequency and remove stop words."
   ]
  },
  {
   "cell_type": "code",
   "execution_count": 19,
   "metadata": {},
   "outputs": [],
   "source": [
    "import nltk\n",
    "\n",
    "try:\n",
    "    stops = set(nltk.corpus.stopwords.words('english'))\n",
    "except:\n",
    "    nltk.download('stopwords')\n",
    "    stops = set(nltk.corpus.stopwords.words('english'))"
   ]
  },
  {
   "cell_type": "markdown",
   "metadata": {},
   "source": [
    "We also want to remove collection words, which would skew our analysis otherwise. A good heuristic for other uninteresting words is word length -- particularly in this dataset, where we have words like \"RT\" and \"US\" floating around everywhere."
   ]
  },
  {
   "cell_type": "code",
   "execution_count": 20,
   "metadata": {},
   "outputs": [],
   "source": [
    "collections = ['coronavirus', 'outbreak', 'cases', 'says']"
   ]
  },
  {
   "cell_type": "code",
   "execution_count": 21,
   "metadata": {},
   "outputs": [],
   "source": [
    "freqs = endf.data.str.split(' ', expand=True).stack().value_counts().to_frame().reset_index()\n",
    "freqs.columns = ['word', 'freq']\n",
    "\n",
    "freqs = freqs.loc[\n",
    "    freqs.word.str.len().ge(3) & freqs.word.str.contains('\\w+') & \n",
    "    ~freqs.word.isin(collections) & ~freqs.word.isin(stops)\n",
    "]"
   ]
  },
  {
   "cell_type": "markdown",
   "metadata": {},
   "source": [
    "The word cloud will give us a good idea of where we are going."
   ]
  },
  {
   "cell_type": "code",
   "execution_count": 22,
   "metadata": {},
   "outputs": [
    {
     "data": {
      "image/png": "[encoded data removed]",
      "text/plain": [
       "<PIL.Image.Image image mode=RGB size=400x200 at 0x7FB96627ED50>"
      ]
     },
     "execution_count": 22,
     "metadata": {},
     "output_type": "execute_result"
    }
   ],
   "source": [
    "from wordcloud import WordCloud\n",
    "long_string = ','.join(list(freqs.word.values))\n",
    "wordcloud = WordCloud(background_color=\"white\", max_words=5000, contour_width=2, contour_color='steelblue')\n",
    "wordcloud.generate(long_string)\n",
    "wordcloud.to_image()"
   ]
  },
  {
   "cell_type": "markdown",
   "metadata": {},
   "source": [
    "Now let's make a good ol' histogram."
   ]
  },
  {
   "cell_type": "code",
   "execution_count": 23,
   "metadata": {},
   "outputs": [
    {
     "name": "stdout",
     "output_type": "stream",
     "text": [
      "Unique words:  5696\n"
     ]
    },
    {
     "data": {
      "image/png": "[encoded data removed]",
      "text/plain": [
       "<Figure size 576x576 with 1 Axes>"
      ]
     },
     "metadata": {
      "needs_background": "light"
     },
     "output_type": "display_data"
    }
   ],
   "source": [
    "print(\"Unique words: \", len(freqs.word))\n",
    "\n",
    "fig, ax = plt.subplots(figsize=(8, 8))\n",
    "freqs.sort_values(by=\"freq\").tail(12).plot.barh(x='word', y='freq', ax=ax, color=\"purple\")\n",
    "ax.set_title(\"Common words found in tweets (sans stop words)\")\n",
    "plt.show()"
   ]
  },
  {
   "cell_type": "markdown",
   "metadata": {},
   "source": [
    "Now, we can do LDA. Note that I am not really using the pandas implementation above; we can just let scikitlearn do all the tokenizing and processing for us. I read the alternate approach in [this tutorial](https://towardsdatascience.com/end-to-end-topic-modeling-in-python-latent-dirichlet-allocation-lda-35ce4ed6b3e0)."
   ]
  },
  {
   "cell_type": "code",
   "execution_count": 24,
   "metadata": {},
   "outputs": [],
   "source": [
    "from sklearn.feature_extraction.text import CountVectorizer\n",
    "count_vectorizer = CountVectorizer(stop_words='english')\n",
    "count_data = count_vectorizer.fit_transform(endf.data)"
   ]
  },
  {
   "cell_type": "code",
   "execution_count": 25,
   "metadata": {},
   "outputs": [
    {
     "name": "stdout",
     "output_type": "stream",
     "text": [
      "Topics found via LDA:\n",
      "\n",
      "Topic #0:\n",
      "coronavirus china wuhan outbreak death new toll people case virus\n",
      "\n",
      "Topic #1:\n",
      "coronavirus china new health case cases confirmed officials people breaking\n",
      "\n",
      "Topic #2:\n",
      "coronavirus china trump outbreak cases spread new novel cdc people\n",
      "\n",
      "Topic #3:\n",
      "coronavirus outbreak china chinese public people says cases ve know\n",
      "\n",
      "Topic #4:\n",
      "coronavirus people chinese outbreak concerns new mardi china gras tested\n",
      "\n",
      "Topic #5:\n",
      "coronavirus cruise ship pence mike response vice tested president princess\n"
     ]
    }
   ],
   "source": [
    "import warnings\n",
    "warnings.simplefilter(\"ignore\", DeprecationWarning)# Load the LDA model from sk-learn\n",
    "from sklearn.feature_extraction.text import CountVectorizer\n",
    "from sklearn.decomposition import LatentDirichletAllocation as LDA\n",
    " \n",
    "def print_topics(model, count_vectorizer, n_top_words):\n",
    "    words = count_vectorizer.get_feature_names()\n",
    "    for topic_idx, topic in enumerate(model.components_):\n",
    "        print(\"\\nTopic #%d:\" % topic_idx)\n",
    "        print(\" \".join([words[i]\n",
    "                        for i in topic.argsort()[:-n_top_words - 1:-1]]))\n",
    "        \n",
    "number_topics = 6\n",
    "number_words = 10\n",
    "lda = LDA(n_components=number_topics, n_jobs=-1)\n",
    "lda.fit(count_data)#\n",
    "print(\"Topics found via LDA:\")\n",
    "print_topics(lda, count_vectorizer, number_words)"
   ]
  }
 ],
 "metadata": {
  "kernelspec": {
   "display_name": "Python 3",
   "language": "python",
   "name": "python3"
  },
  "language_info": {
   "codemirror_mode": {
    "name": "ipython",
    "version": 3
   },
   "file_extension": ".py",
   "mimetype": "text/x-python",
   "name": "python",
   "nbconvert_exporter": "python",
   "pygments_lexer": "ipython3",
   "version": "3.6.8"
  }
 },
 "nbformat": 4,
 "nbformat_minor": 4
}
